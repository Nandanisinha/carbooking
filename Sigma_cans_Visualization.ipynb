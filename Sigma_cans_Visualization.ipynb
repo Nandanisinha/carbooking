{
 "cells": [
  {
   "cell_type": "code",
   "execution_count": 1,
   "id": "c5176dcf",
   "metadata": {},
   "outputs": [],
   "source": [
    "import pandas as pd\n",
    "import matplotlib.pyplot as plt\n",
    "import seaborn as sb\n",
    "from warnings import filterwarnings\n",
    "filterwarnings(\"ignore\")"
   ]
  },
  {
   "cell_type": "code",
   "execution_count": 3,
   "id": "bc0287ca",
   "metadata": {},
   "outputs": [
    {
     "data": {
      "text/html": [
       "<div>\n",
       "<style scoped>\n",
       "    .dataframe tbody tr th:only-of-type {\n",
       "        vertical-align: middle;\n",
       "    }\n",
       "\n",
       "    .dataframe tbody tr th {\n",
       "        vertical-align: top;\n",
       "    }\n",
       "\n",
       "    .dataframe thead th {\n",
       "        text-align: right;\n",
       "    }\n",
       "</style>\n",
       "<table border=\"1\" class=\"dataframe\">\n",
       "  <thead>\n",
       "    <tr style=\"text-align: right;\">\n",
       "      <th></th>\n",
       "      <th>Trip_ID</th>\n",
       "      <th>Trip_Distance</th>\n",
       "      <th>Type_of_Cab</th>\n",
       "      <th>Customer_Since_Months</th>\n",
       "      <th>Life_Style_Index</th>\n",
       "      <th>Confidence_Life_Style_Index</th>\n",
       "      <th>Destination_Type</th>\n",
       "      <th>Customer_Rating</th>\n",
       "      <th>Cancellation_Last_1Month</th>\n",
       "      <th>Var1</th>\n",
       "      <th>Var2</th>\n",
       "      <th>Var3</th>\n",
       "      <th>Gender</th>\n",
       "      <th>Surge_Pricing_Type</th>\n",
       "    </tr>\n",
       "  </thead>\n",
       "  <tbody>\n",
       "    <tr>\n",
       "      <th>0</th>\n",
       "      <td>T0005689460</td>\n",
       "      <td>6.77</td>\n",
       "      <td>B</td>\n",
       "      <td>1.0</td>\n",
       "      <td>2.42769</td>\n",
       "      <td>A</td>\n",
       "      <td>A</td>\n",
       "      <td>3.90500</td>\n",
       "      <td>0</td>\n",
       "      <td>40.0</td>\n",
       "      <td>46</td>\n",
       "      <td>60</td>\n",
       "      <td>Female</td>\n",
       "      <td>2</td>\n",
       "    </tr>\n",
       "    <tr>\n",
       "      <th>1</th>\n",
       "      <td>T0005689461</td>\n",
       "      <td>29.47</td>\n",
       "      <td>B</td>\n",
       "      <td>10.0</td>\n",
       "      <td>2.78245</td>\n",
       "      <td>B</td>\n",
       "      <td>A</td>\n",
       "      <td>3.45000</td>\n",
       "      <td>0</td>\n",
       "      <td>38.0</td>\n",
       "      <td>56</td>\n",
       "      <td>78</td>\n",
       "      <td>Male</td>\n",
       "      <td>2</td>\n",
       "    </tr>\n",
       "    <tr>\n",
       "      <th>2</th>\n",
       "      <td>T0005689464</td>\n",
       "      <td>41.58</td>\n",
       "      <td>NaN</td>\n",
       "      <td>10.0</td>\n",
       "      <td>NaN</td>\n",
       "      <td>NaN</td>\n",
       "      <td>E</td>\n",
       "      <td>3.50125</td>\n",
       "      <td>2</td>\n",
       "      <td>NaN</td>\n",
       "      <td>56</td>\n",
       "      <td>77</td>\n",
       "      <td>Male</td>\n",
       "      <td>2</td>\n",
       "    </tr>\n",
       "    <tr>\n",
       "      <th>3</th>\n",
       "      <td>T0005689465</td>\n",
       "      <td>61.56</td>\n",
       "      <td>C</td>\n",
       "      <td>10.0</td>\n",
       "      <td>NaN</td>\n",
       "      <td>NaN</td>\n",
       "      <td>A</td>\n",
       "      <td>3.45375</td>\n",
       "      <td>0</td>\n",
       "      <td>NaN</td>\n",
       "      <td>52</td>\n",
       "      <td>74</td>\n",
       "      <td>Male</td>\n",
       "      <td>3</td>\n",
       "    </tr>\n",
       "    <tr>\n",
       "      <th>4</th>\n",
       "      <td>T0005689467</td>\n",
       "      <td>54.95</td>\n",
       "      <td>C</td>\n",
       "      <td>10.0</td>\n",
       "      <td>3.03453</td>\n",
       "      <td>B</td>\n",
       "      <td>A</td>\n",
       "      <td>3.40250</td>\n",
       "      <td>4</td>\n",
       "      <td>51.0</td>\n",
       "      <td>49</td>\n",
       "      <td>102</td>\n",
       "      <td>Male</td>\n",
       "      <td>2</td>\n",
       "    </tr>\n",
       "  </tbody>\n",
       "</table>\n",
       "</div>"
      ],
      "text/plain": [
       "       Trip_ID  Trip_Distance Type_of_Cab  Customer_Since_Months  \\\n",
       "0  T0005689460           6.77           B                    1.0   \n",
       "1  T0005689461          29.47           B                   10.0   \n",
       "2  T0005689464          41.58         NaN                   10.0   \n",
       "3  T0005689465          61.56           C                   10.0   \n",
       "4  T0005689467          54.95           C                   10.0   \n",
       "\n",
       "   Life_Style_Index Confidence_Life_Style_Index Destination_Type  \\\n",
       "0           2.42769                           A                A   \n",
       "1           2.78245                           B                A   \n",
       "2               NaN                         NaN                E   \n",
       "3               NaN                         NaN                A   \n",
       "4           3.03453                           B                A   \n",
       "\n",
       "   Customer_Rating  Cancellation_Last_1Month  Var1  Var2  Var3  Gender  \\\n",
       "0          3.90500                         0  40.0    46    60  Female   \n",
       "1          3.45000                         0  38.0    56    78    Male   \n",
       "2          3.50125                         2   NaN    56    77    Male   \n",
       "3          3.45375                         0   NaN    52    74    Male   \n",
       "4          3.40250                         4  51.0    49   102    Male   \n",
       "\n",
       "   Surge_Pricing_Type  \n",
       "0                   2  \n",
       "1                   2  \n",
       "2                   2  \n",
       "3                   3  \n",
       "4                   2  "
      ]
     },
     "execution_count": 3,
     "metadata": {},
     "output_type": "execute_result"
    }
   ],
   "source": [
    "A = pd.read_csv(\"sigma_cabs.csv\")\n",
    "A.head()"
   ]
  },
  {
   "cell_type": "code",
   "execution_count": 4,
   "id": "c348f7cf",
   "metadata": {},
   "outputs": [
    {
     "name": "stdout",
     "output_type": "stream",
     "text": [
      "<class 'pandas.core.frame.DataFrame'>\n",
      "RangeIndex: 131662 entries, 0 to 131661\n",
      "Data columns (total 14 columns):\n",
      " #   Column                       Non-Null Count   Dtype  \n",
      "---  ------                       --------------   -----  \n",
      " 0   Trip_ID                      131662 non-null  object \n",
      " 1   Trip_Distance                131662 non-null  float64\n",
      " 2   Type_of_Cab                  111452 non-null  object \n",
      " 3   Customer_Since_Months        125742 non-null  float64\n",
      " 4   Life_Style_Index             111469 non-null  float64\n",
      " 5   Confidence_Life_Style_Index  111469 non-null  object \n",
      " 6   Destination_Type             131662 non-null  object \n",
      " 7   Customer_Rating              131662 non-null  float64\n",
      " 8   Cancellation_Last_1Month     131662 non-null  int64  \n",
      " 9   Var1                         60632 non-null   float64\n",
      " 10  Var2                         131662 non-null  int64  \n",
      " 11  Var3                         131662 non-null  int64  \n",
      " 12  Gender                       131662 non-null  object \n",
      " 13  Surge_Pricing_Type           131662 non-null  int64  \n",
      "dtypes: float64(5), int64(4), object(5)\n",
      "memory usage: 14.1+ MB\n"
     ]
    }
   ],
   "source": [
    "A.info()"
   ]
  },
  {
   "cell_type": "code",
   "execution_count": 5,
   "id": "a02b16b8",
   "metadata": {},
   "outputs": [
    {
     "data": {
      "text/html": [
       "<div>\n",
       "<style scoped>\n",
       "    .dataframe tbody tr th:only-of-type {\n",
       "        vertical-align: middle;\n",
       "    }\n",
       "\n",
       "    .dataframe tbody tr th {\n",
       "        vertical-align: top;\n",
       "    }\n",
       "\n",
       "    .dataframe thead th {\n",
       "        text-align: right;\n",
       "    }\n",
       "</style>\n",
       "<table border=\"1\" class=\"dataframe\">\n",
       "  <thead>\n",
       "    <tr style=\"text-align: right;\">\n",
       "      <th></th>\n",
       "      <th>Trip_Distance</th>\n",
       "      <th>Customer_Since_Months</th>\n",
       "      <th>Life_Style_Index</th>\n",
       "      <th>Customer_Rating</th>\n",
       "      <th>Cancellation_Last_1Month</th>\n",
       "      <th>Var1</th>\n",
       "      <th>Var2</th>\n",
       "      <th>Var3</th>\n",
       "      <th>Surge_Pricing_Type</th>\n",
       "    </tr>\n",
       "  </thead>\n",
       "  <tbody>\n",
       "    <tr>\n",
       "      <th>count</th>\n",
       "      <td>131662.000000</td>\n",
       "      <td>125742.000000</td>\n",
       "      <td>111469.000000</td>\n",
       "      <td>131662.000000</td>\n",
       "      <td>131662.000000</td>\n",
       "      <td>60632.000000</td>\n",
       "      <td>131662.000000</td>\n",
       "      <td>131662.000000</td>\n",
       "      <td>131662.000000</td>\n",
       "    </tr>\n",
       "    <tr>\n",
       "      <th>mean</th>\n",
       "      <td>44.200909</td>\n",
       "      <td>6.016661</td>\n",
       "      <td>2.802064</td>\n",
       "      <td>2.849458</td>\n",
       "      <td>0.782838</td>\n",
       "      <td>64.202698</td>\n",
       "      <td>51.202800</td>\n",
       "      <td>75.099019</td>\n",
       "      <td>2.155747</td>\n",
       "    </tr>\n",
       "    <tr>\n",
       "      <th>std</th>\n",
       "      <td>25.522882</td>\n",
       "      <td>3.626887</td>\n",
       "      <td>0.225796</td>\n",
       "      <td>0.980675</td>\n",
       "      <td>1.037559</td>\n",
       "      <td>21.820447</td>\n",
       "      <td>4.986142</td>\n",
       "      <td>11.578278</td>\n",
       "      <td>0.738164</td>\n",
       "    </tr>\n",
       "    <tr>\n",
       "      <th>min</th>\n",
       "      <td>0.310000</td>\n",
       "      <td>0.000000</td>\n",
       "      <td>1.596380</td>\n",
       "      <td>0.001250</td>\n",
       "      <td>0.000000</td>\n",
       "      <td>30.000000</td>\n",
       "      <td>40.000000</td>\n",
       "      <td>52.000000</td>\n",
       "      <td>1.000000</td>\n",
       "    </tr>\n",
       "    <tr>\n",
       "      <th>25%</th>\n",
       "      <td>24.580000</td>\n",
       "      <td>3.000000</td>\n",
       "      <td>2.654730</td>\n",
       "      <td>2.152500</td>\n",
       "      <td>0.000000</td>\n",
       "      <td>46.000000</td>\n",
       "      <td>48.000000</td>\n",
       "      <td>67.000000</td>\n",
       "      <td>2.000000</td>\n",
       "    </tr>\n",
       "    <tr>\n",
       "      <th>50%</th>\n",
       "      <td>38.200000</td>\n",
       "      <td>6.000000</td>\n",
       "      <td>2.798050</td>\n",
       "      <td>2.895000</td>\n",
       "      <td>0.000000</td>\n",
       "      <td>61.000000</td>\n",
       "      <td>50.000000</td>\n",
       "      <td>74.000000</td>\n",
       "      <td>2.000000</td>\n",
       "    </tr>\n",
       "    <tr>\n",
       "      <th>75%</th>\n",
       "      <td>60.730000</td>\n",
       "      <td>10.000000</td>\n",
       "      <td>2.946780</td>\n",
       "      <td>3.582500</td>\n",
       "      <td>1.000000</td>\n",
       "      <td>80.000000</td>\n",
       "      <td>54.000000</td>\n",
       "      <td>82.000000</td>\n",
       "      <td>3.000000</td>\n",
       "    </tr>\n",
       "    <tr>\n",
       "      <th>max</th>\n",
       "      <td>109.230000</td>\n",
       "      <td>10.000000</td>\n",
       "      <td>4.875110</td>\n",
       "      <td>5.000000</td>\n",
       "      <td>8.000000</td>\n",
       "      <td>210.000000</td>\n",
       "      <td>124.000000</td>\n",
       "      <td>206.000000</td>\n",
       "      <td>3.000000</td>\n",
       "    </tr>\n",
       "  </tbody>\n",
       "</table>\n",
       "</div>"
      ],
      "text/plain": [
       "       Trip_Distance  Customer_Since_Months  Life_Style_Index  \\\n",
       "count  131662.000000          125742.000000     111469.000000   \n",
       "mean       44.200909               6.016661          2.802064   \n",
       "std        25.522882               3.626887          0.225796   \n",
       "min         0.310000               0.000000          1.596380   \n",
       "25%        24.580000               3.000000          2.654730   \n",
       "50%        38.200000               6.000000          2.798050   \n",
       "75%        60.730000              10.000000          2.946780   \n",
       "max       109.230000              10.000000          4.875110   \n",
       "\n",
       "       Customer_Rating  Cancellation_Last_1Month          Var1           Var2  \\\n",
       "count    131662.000000             131662.000000  60632.000000  131662.000000   \n",
       "mean          2.849458                  0.782838     64.202698      51.202800   \n",
       "std           0.980675                  1.037559     21.820447       4.986142   \n",
       "min           0.001250                  0.000000     30.000000      40.000000   \n",
       "25%           2.152500                  0.000000     46.000000      48.000000   \n",
       "50%           2.895000                  0.000000     61.000000      50.000000   \n",
       "75%           3.582500                  1.000000     80.000000      54.000000   \n",
       "max           5.000000                  8.000000    210.000000     124.000000   \n",
       "\n",
       "                Var3  Surge_Pricing_Type  \n",
       "count  131662.000000       131662.000000  \n",
       "mean       75.099019            2.155747  \n",
       "std        11.578278            0.738164  \n",
       "min        52.000000            1.000000  \n",
       "25%        67.000000            2.000000  \n",
       "50%        74.000000            2.000000  \n",
       "75%        82.000000            3.000000  \n",
       "max       206.000000            3.000000  "
      ]
     },
     "execution_count": 5,
     "metadata": {},
     "output_type": "execute_result"
    }
   ],
   "source": [
    "A.describe()"
   ]
  },
  {
   "cell_type": "code",
   "execution_count": 6,
   "id": "ae45393f",
   "metadata": {},
   "outputs": [
    {
     "data": {
      "text/html": [
       "<div>\n",
       "<style scoped>\n",
       "    .dataframe tbody tr th:only-of-type {\n",
       "        vertical-align: middle;\n",
       "    }\n",
       "\n",
       "    .dataframe tbody tr th {\n",
       "        vertical-align: top;\n",
       "    }\n",
       "\n",
       "    .dataframe thead th {\n",
       "        text-align: right;\n",
       "    }\n",
       "</style>\n",
       "<table border=\"1\" class=\"dataframe\">\n",
       "  <thead>\n",
       "    <tr style=\"text-align: right;\">\n",
       "      <th></th>\n",
       "      <th>Trip_ID</th>\n",
       "      <th>Type_of_Cab</th>\n",
       "      <th>Confidence_Life_Style_Index</th>\n",
       "      <th>Destination_Type</th>\n",
       "      <th>Gender</th>\n",
       "    </tr>\n",
       "  </thead>\n",
       "  <tbody>\n",
       "    <tr>\n",
       "      <th>count</th>\n",
       "      <td>131662</td>\n",
       "      <td>111452</td>\n",
       "      <td>111469</td>\n",
       "      <td>131662</td>\n",
       "      <td>131662</td>\n",
       "    </tr>\n",
       "    <tr>\n",
       "      <th>unique</th>\n",
       "      <td>131662</td>\n",
       "      <td>5</td>\n",
       "      <td>3</td>\n",
       "      <td>14</td>\n",
       "      <td>2</td>\n",
       "    </tr>\n",
       "    <tr>\n",
       "      <th>top</th>\n",
       "      <td>T0005689460</td>\n",
       "      <td>B</td>\n",
       "      <td>B</td>\n",
       "      <td>A</td>\n",
       "      <td>Male</td>\n",
       "    </tr>\n",
       "    <tr>\n",
       "      <th>freq</th>\n",
       "      <td>1</td>\n",
       "      <td>31136</td>\n",
       "      <td>40355</td>\n",
       "      <td>77597</td>\n",
       "      <td>93900</td>\n",
       "    </tr>\n",
       "  </tbody>\n",
       "</table>\n",
       "</div>"
      ],
      "text/plain": [
       "            Trip_ID Type_of_Cab Confidence_Life_Style_Index Destination_Type  \\\n",
       "count        131662      111452                      111469           131662   \n",
       "unique       131662           5                           3               14   \n",
       "top     T0005689460           B                           B                A   \n",
       "freq              1       31136                       40355            77597   \n",
       "\n",
       "        Gender  \n",
       "count   131662  \n",
       "unique       2  \n",
       "top       Male  \n",
       "freq     93900  "
      ]
     },
     "execution_count": 6,
     "metadata": {},
     "output_type": "execute_result"
    }
   ],
   "source": [
    "A.describe(include = 'object')"
   ]
  },
  {
   "cell_type": "code",
   "execution_count": 7,
   "id": "77db7243",
   "metadata": {},
   "outputs": [
    {
     "data": {
      "text/plain": [
       "Trip_ID                            0\n",
       "Trip_Distance                      0\n",
       "Type_of_Cab                    20210\n",
       "Customer_Since_Months           5920\n",
       "Life_Style_Index               20193\n",
       "Confidence_Life_Style_Index    20193\n",
       "Destination_Type                   0\n",
       "Customer_Rating                    0\n",
       "Cancellation_Last_1Month           0\n",
       "Var1                           71030\n",
       "Var2                               0\n",
       "Var3                               0\n",
       "Gender                             0\n",
       "Surge_Pricing_Type                 0\n",
       "dtype: int64"
      ]
     },
     "execution_count": 7,
     "metadata": {},
     "output_type": "execute_result"
    }
   ],
   "source": [
    "A.isna().sum()"
   ]
  },
  {
   "cell_type": "markdown",
   "id": "2b3a156a",
   "metadata": {},
   "source": [
    "### Treating Null Values"
   ]
  },
  {
   "cell_type": "markdown",
   "id": "d87dc28d",
   "metadata": {},
   "source": [
    "#### Type_of_Cab                    "
   ]
  },
  {
   "cell_type": "code",
   "execution_count": 8,
   "id": "6ab363e5",
   "metadata": {},
   "outputs": [
    {
     "data": {
      "text/plain": [
       "20210"
      ]
     },
     "execution_count": 8,
     "metadata": {},
     "output_type": "execute_result"
    }
   ],
   "source": [
    "A.Type_of_Cab.isna().sum()               "
   ]
  },
  {
   "cell_type": "code",
   "execution_count": 9,
   "id": "a6089b27",
   "metadata": {},
   "outputs": [
    {
     "data": {
      "text/plain": [
       "B    31136\n",
       "C    28122\n",
       "A    21569\n",
       "D    18991\n",
       "E    11634\n",
       "Name: Type_of_Cab, dtype: int64"
      ]
     },
     "execution_count": 9,
     "metadata": {},
     "output_type": "execute_result"
    }
   ],
   "source": [
    "A.Type_of_Cab.value_counts()"
   ]
  },
  {
   "cell_type": "code",
   "execution_count": 13,
   "id": "259f3cdb",
   "metadata": {},
   "outputs": [
    {
     "data": {
      "text/plain": [
       "0    B\n",
       "Name: Type_of_Cab, dtype: object"
      ]
     },
     "execution_count": 13,
     "metadata": {},
     "output_type": "execute_result"
    }
   ],
   "source": [
    "A.Type_of_Cab.mode()"
   ]
  },
  {
   "cell_type": "code",
   "execution_count": 17,
   "id": "cfed54e7",
   "metadata": {},
   "outputs": [],
   "source": [
    "# Filling null values with highest frequency of the Type of cahb\n",
    "A.Type_of_Cab = A.Type_of_Cab.fillna('B')"
   ]
  },
  {
   "cell_type": "code",
   "execution_count": 18,
   "id": "fc5309f5",
   "metadata": {},
   "outputs": [
    {
     "data": {
      "text/plain": [
       "0"
      ]
     },
     "execution_count": 18,
     "metadata": {},
     "output_type": "execute_result"
    }
   ],
   "source": [
    "A.Type_of_Cab.isna().sum() "
   ]
  },
  {
   "cell_type": "code",
   "execution_count": 19,
   "id": "289bcf03",
   "metadata": {},
   "outputs": [
    {
     "data": {
      "text/plain": [
       "B    51346\n",
       "C    28122\n",
       "A    21569\n",
       "D    18991\n",
       "E    11634\n",
       "Name: Type_of_Cab, dtype: int64"
      ]
     },
     "execution_count": 19,
     "metadata": {},
     "output_type": "execute_result"
    }
   ],
   "source": [
    "A.Type_of_Cab.value_counts()"
   ]
  },
  {
   "cell_type": "markdown",
   "id": "776f0663",
   "metadata": {},
   "source": [
    "## Customer_Since_Months"
   ]
  },
  {
   "cell_type": "code",
   "execution_count": 20,
   "id": "22190380",
   "metadata": {},
   "outputs": [
    {
     "data": {
      "text/plain": [
       "dtype('float64')"
      ]
     },
     "execution_count": 20,
     "metadata": {},
     "output_type": "execute_result"
    }
   ],
   "source": [
    "A.Customer_Since_Months.dtype"
   ]
  },
  {
   "cell_type": "code",
   "execution_count": 21,
   "id": "ee454a81",
   "metadata": {},
   "outputs": [
    {
     "data": {
      "text/plain": [
       "10.0    42680\n",
       "2.0     11621\n",
       "3.0     10351\n",
       "0.0     10169\n",
       "5.0      8641\n",
       "1.0      8297\n",
       "4.0      7726\n",
       "7.0      7407\n",
       "6.0      7375\n",
       "8.0      6328\n",
       "9.0      5147\n",
       "Name: Customer_Since_Months, dtype: int64"
      ]
     },
     "execution_count": 21,
     "metadata": {},
     "output_type": "execute_result"
    }
   ],
   "source": [
    "A.Customer_Since_Months.value_counts()"
   ]
  },
  {
   "cell_type": "code",
   "execution_count": 23,
   "id": "8c1d8c8f",
   "metadata": {},
   "outputs": [
    {
     "data": {
      "text/plain": [
       "<AxesSubplot:xlabel='Customer_Since_Months', ylabel='Count'>"
      ]
     },
     "execution_count": 23,
     "metadata": {},
     "output_type": "execute_result"
    },
    {
     "data": {
      "image/png": "[encoded data removed]",
      "text/plain": [
       "<Figure size 432x288 with 1 Axes>"
      ]
     },
     "metadata": {
      "needs_background": "light"
     },
     "output_type": "display_data"
    }
   ],
   "source": [
    "sb.histplot(A.Customer_Since_Months)"
   ]
  },
  {
   "cell_type": "code",
   "execution_count": 26,
   "id": "7866b151",
   "metadata": {},
   "outputs": [
    {
     "data": {
      "text/plain": [
       "<AxesSubplot:xlabel='Customer_Since_Months'>"
      ]
     },
     "execution_count": 26,
     "metadata": {},
     "output_type": "execute_result"
    },
    {
     "data": {
      "image/png": "[encoded data removed]",
      "text/plain": [
       "<Figure size 432x288 with 1 Axes>"
      ]
     },
     "metadata": {
      "needs_background": "light"
     },
     "output_type": "display_data"
    }
   ],
   "source": [
    "sb.boxplot(A.Customer_Since_Months, color = 'g')"
   ]
  },
  {
   "cell_type": "code",
   "execution_count": 27,
   "id": "7351bb36",
   "metadata": {},
   "outputs": [
    {
     "data": {
      "text/plain": [
       "6.016661099712109"
      ]
     },
     "execution_count": 27,
     "metadata": {},
     "output_type": "execute_result"
    }
   ],
   "source": [
    "A.Customer_Since_Months.mean()"
   ]
  },
  {
   "cell_type": "code",
   "execution_count": 28,
   "id": "421bf0fc",
   "metadata": {},
   "outputs": [
    {
     "data": {
      "text/plain": [
       "6.0"
      ]
     },
     "execution_count": 28,
     "metadata": {},
     "output_type": "execute_result"
    }
   ],
   "source": [
    "A.Customer_Since_Months.median()"
   ]
  },
  {
   "cell_type": "code",
   "execution_count": 29,
   "id": "c3bc4d5f",
   "metadata": {},
   "outputs": [
    {
     "data": {
      "text/plain": [
       "0    10.0\n",
       "Name: Customer_Since_Months, dtype: float64"
      ]
     },
     "execution_count": 29,
     "metadata": {},
     "output_type": "execute_result"
    }
   ],
   "source": [
    "A.Customer_Since_Months.mode()"
   ]
  },
  {
   "cell_type": "code",
   "execution_count": 30,
   "id": "4479eac7",
   "metadata": {},
   "outputs": [],
   "source": [
    "A.Customer_Since_Months = A.Customer_Since_Months.fillna(A.Customer_Since_Months.median())"
   ]
  },
  {
   "cell_type": "code",
   "execution_count": 31,
   "id": "6b8d5969",
   "metadata": {},
   "outputs": [
    {
     "data": {
      "text/plain": [
       "0"
      ]
     },
     "execution_count": 31,
     "metadata": {},
     "output_type": "execute_result"
    }
   ],
   "source": [
    "A.Customer_Since_Months.isna().sum()"
   ]
  },
  {
   "cell_type": "markdown",
   "id": "cd244bf3",
   "metadata": {},
   "source": [
    "## Life_Style_Index\n"
   ]
  },
  {
   "cell_type": "code",
   "execution_count": 33,
   "id": "747a6d86",
   "metadata": {},
   "outputs": [
    {
     "data": {
      "text/plain": [
       "dtype('float64')"
      ]
     },
     "execution_count": 33,
     "metadata": {},
     "output_type": "execute_result"
    }
   ],
   "source": [
    "A.Life_Style_Index.dtype"
   ]
  },
  {
   "cell_type": "code",
   "execution_count": 35,
   "id": "9e3fac89",
   "metadata": {},
   "outputs": [
    {
     "data": {
      "text/plain": [
       "20193"
      ]
     },
     "execution_count": 35,
     "metadata": {},
     "output_type": "execute_result"
    }
   ],
   "source": [
    "A.Life_Style_Index.isna().sum()"
   ]
  },
  {
   "cell_type": "code",
   "execution_count": 36,
   "id": "ad834824",
   "metadata": {},
   "outputs": [
    {
     "data": {
      "text/plain": [
       "<AxesSubplot:xlabel='Life_Style_Index', ylabel='Count'>"
      ]
     },
     "execution_count": 36,
     "metadata": {},
     "output_type": "execute_result"
    },
    {
     "data": {
      "image/png": "[encoded data removed]",
      "text/plain": [
       "<Figure size 432x288 with 1 Axes>"
      ]
     },
     "metadata": {
      "needs_background": "light"
     },
     "output_type": "display_data"
    }
   ],
   "source": [
    "sb.histplot(A.Life_Style_Index)"
   ]
  },
  {
   "cell_type": "code",
   "execution_count": 37,
   "id": "aba24241",
   "metadata": {},
   "outputs": [
    {
     "data": {
      "text/plain": [
       "<AxesSubplot:xlabel='Life_Style_Index'>"
      ]
     },
     "execution_count": 37,
     "metadata": {},
     "output_type": "execute_result"
    },
    {
     "data": {
      "image/png": "[encoded data removed]",
      "text/plain": [
       "<Figure size 432x288 with 1 Axes>"
      ]
     },
     "metadata": {
      "needs_background": "light"
     },
     "output_type": "display_data"
    }
   ],
   "source": [
    "sb.boxplot(A.Life_Style_Index)"
   ]
  },
  {
   "cell_type": "code",
   "execution_count": 39,
   "id": "b48abdf0",
   "metadata": {},
   "outputs": [
    {
     "data": {
      "text/plain": [
       "4.87511"
      ]
     },
     "execution_count": 39,
     "metadata": {},
     "output_type": "execute_result"
    }
   ],
   "source": [
    "A.Life_Style_Index.quantile(1)"
   ]
  },
  {
   "cell_type": "code",
   "execution_count": 40,
   "id": "fc0bcf29",
   "metadata": {},
   "outputs": [
    {
     "data": {
      "text/plain": [
       "4.87511"
      ]
     },
     "execution_count": 40,
     "metadata": {},
     "output_type": "execute_result"
    }
   ],
   "source": [
    "A.Life_Style_Index.max()"
   ]
  },
  {
   "cell_type": "code",
   "execution_count": 41,
   "id": "fac83329",
   "metadata": {},
   "outputs": [
    {
     "data": {
      "text/plain": [
       "1.59638"
      ]
     },
     "execution_count": 41,
     "metadata": {},
     "output_type": "execute_result"
    }
   ],
   "source": [
    "A.Life_Style_Index.min()"
   ]
  },
  {
   "cell_type": "code",
   "execution_count": 46,
   "id": "00dcd1e0",
   "metadata": {},
   "outputs": [
    {
     "data": {
      "text/plain": [
       "2.65473"
      ]
     },
     "execution_count": 46,
     "metadata": {},
     "output_type": "execute_result"
    }
   ],
   "source": [
    "A.Life_Style_Index.quantile(0.25)"
   ]
  },
  {
   "cell_type": "code",
   "execution_count": 44,
   "id": "a621c489",
   "metadata": {},
   "outputs": [
    {
     "data": {
      "text/plain": [
       "2.79805"
      ]
     },
     "execution_count": 44,
     "metadata": {},
     "output_type": "execute_result"
    }
   ],
   "source": [
    "A.Life_Style_Index.quantile(0.5)"
   ]
  },
  {
   "cell_type": "code",
   "execution_count": 45,
   "id": "505209c6",
   "metadata": {},
   "outputs": [
    {
     "data": {
      "text/plain": [
       "2.94678"
      ]
     },
     "execution_count": 45,
     "metadata": {},
     "output_type": "execute_result"
    }
   ],
   "source": [
    "A.Life_Style_Index.quantile(0.75)"
   ]
  },
  {
   "cell_type": "code",
   "execution_count": 47,
   "id": "fd14973f",
   "metadata": {},
   "outputs": [
    {
     "data": {
      "text/plain": [
       "3.3862050000000004"
      ]
     },
     "execution_count": 47,
     "metadata": {},
     "output_type": "execute_result"
    }
   ],
   "source": [
    "c = 2.94678+1.5*(2.94768-2.65473)\n",
    "c"
   ]
  },
  {
   "cell_type": "code",
   "execution_count": 49,
   "id": "0de3d96d",
   "metadata": {},
   "outputs": [
    {
     "data": {
      "text/plain": [
       "2.2153049999999994"
      ]
     },
     "execution_count": 49,
     "metadata": {},
     "output_type": "execute_result"
    }
   ],
   "source": [
    "b = 2.65473-1.5*(2.94768-2.65473)\n",
    "b"
   ]
  },
  {
   "cell_type": "code",
   "execution_count": 50,
   "id": "dc9aeac8",
   "metadata": {},
   "outputs": [],
   "source": [
    "A.Life_Style_Index = A.Life_Style_Index.fillna(4)"
   ]
  },
  {
   "cell_type": "code",
   "execution_count": 51,
   "id": "915dfdeb",
   "metadata": {},
   "outputs": [
    {
     "data": {
      "text/plain": [
       "0"
      ]
     },
     "execution_count": 51,
     "metadata": {},
     "output_type": "execute_result"
    }
   ],
   "source": [
    "A.Life_Style_Index.isna().sum()"
   ]
  },
  {
   "cell_type": "markdown",
   "id": "406d35d2",
   "metadata": {},
   "source": [
    "## Confidence_Life_Style_Index"
   ]
  },
  {
   "cell_type": "code",
   "execution_count": 55,
   "id": "c74afc29",
   "metadata": {},
   "outputs": [
    {
     "data": {
      "text/plain": [
       "dtype('O')"
      ]
     },
     "execution_count": 55,
     "metadata": {},
     "output_type": "execute_result"
    }
   ],
   "source": [
    "A.Confidence_Life_Style_Index.dtype"
   ]
  },
  {
   "cell_type": "code",
   "execution_count": 57,
   "id": "dc07ee6f",
   "metadata": {},
   "outputs": [
    {
     "data": {
      "text/plain": [
       "B    40355\n",
       "C    35967\n",
       "A    35147\n",
       "Name: Confidence_Life_Style_Index, dtype: int64"
      ]
     },
     "execution_count": 57,
     "metadata": {},
     "output_type": "execute_result"
    }
   ],
   "source": [
    "A.Confidence_Life_Style_Index.value_counts()"
   ]
  },
  {
   "cell_type": "code",
   "execution_count": 63,
   "id": "077ba53c",
   "metadata": {},
   "outputs": [
    {
     "data": {
      "text/plain": [
       "0    B\n",
       "Name: Confidence_Life_Style_Index, dtype: object"
      ]
     },
     "execution_count": 63,
     "metadata": {},
     "output_type": "execute_result"
    }
   ],
   "source": [
    "A.Confidence_Life_Style_Index.mode()"
   ]
  },
  {
   "cell_type": "code",
   "execution_count": 64,
   "id": "7261a523",
   "metadata": {},
   "outputs": [
    {
     "data": {
      "text/plain": [
       "'B'"
      ]
     },
     "execution_count": 64,
     "metadata": {},
     "output_type": "execute_result"
    }
   ],
   "source": [
    "A.Confidence_Life_Style_Index.mode()[0]"
   ]
  },
  {
   "cell_type": "code",
   "execution_count": 66,
   "id": "2dffc8c4",
   "metadata": {},
   "outputs": [],
   "source": [
    "A.Confidence_Life_Style_Index = A.Confidence_Life_Style_Index.fillna('B')"
   ]
  },
  {
   "cell_type": "code",
   "execution_count": 67,
   "id": "b70e489e",
   "metadata": {},
   "outputs": [
    {
     "data": {
      "text/plain": [
       "0"
      ]
     },
     "execution_count": 67,
     "metadata": {},
     "output_type": "execute_result"
    }
   ],
   "source": [
    "A.Confidence_Life_Style_Index.isna().sum()"
   ]
  },
  {
   "cell_type": "markdown",
   "id": "cad58f0b",
   "metadata": {},
   "source": [
    "## Var1"
   ]
  },
  {
   "cell_type": "code",
   "execution_count": 68,
   "id": "b52eeb91",
   "metadata": {},
   "outputs": [
    {
     "data": {
      "text/plain": [
       "dtype('float64')"
      ]
     },
     "execution_count": 68,
     "metadata": {},
     "output_type": "execute_result"
    }
   ],
   "source": [
    "A.Var1.dtype"
   ]
  },
  {
   "cell_type": "code",
   "execution_count": 73,
   "id": "185f5631",
   "metadata": {},
   "outputs": [
    {
     "data": {
      "text/plain": [
       "71030"
      ]
     },
     "execution_count": 73,
     "metadata": {},
     "output_type": "execute_result"
    }
   ],
   "source": [
    "A.Var1.isna().sum()"
   ]
  },
  {
   "cell_type": "code",
   "execution_count": 74,
   "id": "b74477b6",
   "metadata": {},
   "outputs": [
    {
     "data": {
      "text/plain": [
       "53.948747550546095"
      ]
     },
     "execution_count": 74,
     "metadata": {},
     "output_type": "execute_result"
    }
   ],
   "source": [
    "missing_percentage = (A.Var1.isna().sum()/len(A))*100\n",
    "missing_percentage"
   ]
  },
  {
   "cell_type": "code",
   "execution_count": 69,
   "id": "a01493ad",
   "metadata": {},
   "outputs": [
    {
     "data": {
      "text/plain": [
       "<AxesSubplot:xlabel='Var1', ylabel='Count'>"
      ]
     },
     "execution_count": 69,
     "metadata": {},
     "output_type": "execute_result"
    },
    {
     "data": {
      "image/png": "[encoded data removed]",
      "text/plain": [
       "<Figure size 432x288 with 1 Axes>"
      ]
     },
     "metadata": {
      "needs_background": "light"
     },
     "output_type": "display_data"
    }
   ],
   "source": [
    "sb.histplot(A.Var1)"
   ]
  },
  {
   "cell_type": "code",
   "execution_count": 70,
   "id": "4bd0b83e",
   "metadata": {},
   "outputs": [
    {
     "data": {
      "text/plain": [
       "<AxesSubplot:xlabel='Var1'>"
      ]
     },
     "execution_count": 70,
     "metadata": {},
     "output_type": "execute_result"
    },
    {
     "data": {
      "image/png": "[encoded data removed]",
      "text/plain": [
       "<Figure size 432x288 with 1 Axes>"
      ]
     },
     "metadata": {
      "needs_background": "light"
     },
     "output_type": "display_data"
    }
   ],
   "source": [
    "sb.boxplot(A.Var1)"
   ]
  },
  {
   "cell_type": "code",
   "execution_count": 71,
   "id": "8e30a12d",
   "metadata": {},
   "outputs": [
    {
     "data": {
      "text/plain": [
       "64.20269824515107"
      ]
     },
     "execution_count": 71,
     "metadata": {},
     "output_type": "execute_result"
    }
   ],
   "source": [
    "A.Var1.mean()"
   ]
  },
  {
   "cell_type": "code",
   "execution_count": 72,
   "id": "6bd199dd",
   "metadata": {},
   "outputs": [
    {
     "data": {
      "text/plain": [
       "61.0"
      ]
     },
     "execution_count": 72,
     "metadata": {},
     "output_type": "execute_result"
    }
   ],
   "source": [
    "A.Var1.median()"
   ]
  },
  {
   "cell_type": "code",
   "execution_count": 76,
   "id": "16726c00",
   "metadata": {},
   "outputs": [],
   "source": [
    "A.Var1 = A.Var1.fillna(A.Var1.median())"
   ]
  },
  {
   "cell_type": "code",
   "execution_count": 77,
   "id": "0358d574",
   "metadata": {},
   "outputs": [
    {
     "data": {
      "text/plain": [
       "0"
      ]
     },
     "execution_count": 77,
     "metadata": {},
     "output_type": "execute_result"
    }
   ],
   "source": [
    "A.Var1.isna().sum()"
   ]
  },
  {
   "cell_type": "code",
   "execution_count": 78,
   "id": "6055d501",
   "metadata": {},
   "outputs": [
    {
     "data": {
      "text/plain": [
       "Trip_ID                        0\n",
       "Trip_Distance                  0\n",
       "Type_of_Cab                    0\n",
       "Customer_Since_Months          0\n",
       "Life_Style_Index               0\n",
       "Confidence_Life_Style_Index    0\n",
       "Destination_Type               0\n",
       "Customer_Rating                0\n",
       "Cancellation_Last_1Month       0\n",
       "Var1                           0\n",
       "Var2                           0\n",
       "Var3                           0\n",
       "Gender                         0\n",
       "Surge_Pricing_Type             0\n",
       "dtype: int64"
      ]
     },
     "execution_count": 78,
     "metadata": {},
     "output_type": "execute_result"
    }
   ],
   "source": [
    "A.isna().sum()"
   ]
  },
  {
   "cell_type": "code",
   "execution_count": 111,
   "id": "2ffb8b10",
   "metadata": {},
   "outputs": [
    {
     "data": {
      "image/png": "[encoded data removed]",
      "text/plain": [
       "<Figure size 432x288 with 1 Axes>"
      ]
     },
     "metadata": {
      "needs_background": "light"
     },
     "output_type": "display_data"
    },
    {
     "data": {
      "image/png": "[encoded data removed]",
      "text/plain": [
       "<Figure size 432x288 with 1 Axes>"
      ]
     },
     "metadata": {
      "needs_background": "light"
     },
     "output_type": "display_data"
    },
    {
     "data": {
      "image/png": "[encoded data removed]",
      "text/plain": [
       "<Figure size 432x288 with 1 Axes>"
      ]
     },
     "metadata": {
      "needs_background": "light"
     },
     "output_type": "display_data"
    },
    {
     "data": {
      "image/png": "[encoded data removed]",
      "text/plain": [
       "<Figure size 432x288 with 1 Axes>"
      ]
     },
     "metadata": {
      "needs_background": "light"
     },
     "output_type": "display_data"
    },
    {
     "data": {
      "image/png": "[encoded data removed]",
      "text/plain": [
       "<Figure size 432x288 with 1 Axes>"
      ]
     },
     "metadata": {
      "needs_background": "light"
     },
     "output_type": "display_data"
    },
    {
     "data": {
      "image/png": "[encoded data removed]",
      "text/plain": [
       "<Figure size 432x288 with 1 Axes>"
      ]
     },
     "metadata": {
      "needs_background": "light"
     },
     "output_type": "display_data"
    },
    {
     "data": {
      "image/png": "[encoded data removed]",
      "text/plain": [
       "<Figure size 432x288 with 1 Axes>"
      ]
     },
     "metadata": {
      "needs_background": "light"
     },
     "output_type": "display_data"
    },
    {
     "data": {
      "image/png": "[encoded data removed]",
      "text/plain": [
       "<Figure size 432x288 with 1 Axes>"
      ]
     },
     "metadata": {
      "needs_background": "light"
     },
     "output_type": "display_data"
    },
    {
     "data": {
      "image/png": "[encoded data removed]",
      "text/plain": [
       "<Figure size 432x288 with 1 Axes>"
      ]
     },
     "metadata": {
      "needs_background": "light"
     },
     "output_type": "display_data"
    }
   ],
   "source": [
    "for i in con:\n",
    "    sb.boxplot(A[i])\n",
    "    plt.show()"
   ]
  },
  {
   "cell_type": "code",
   "execution_count": 80,
   "id": "3da79a54",
   "metadata": {},
   "outputs": [],
   "source": [
    "#Drop unique identity columns and separating data into continous and categorical:\n",
    "A = A.drop(labels=[\"Trip_ID\"],axis=1)\n",
    "cat = []\n",
    "con = []\n",
    "for i in A.columns:\n",
    "    if(A[i].dtypes==\"object\"):\n",
    "        cat.append(i)\n",
    "    else:\n",
    "        con.append(i)"
   ]
  },
  {
   "cell_type": "code",
   "execution_count": 81,
   "id": "81e254f3",
   "metadata": {},
   "outputs": [
    {
     "data": {
      "text/plain": [
       "['Type_of_Cab', 'Confidence_Life_Style_Index', 'Destination_Type', 'Gender']"
      ]
     },
     "execution_count": 81,
     "metadata": {},
     "output_type": "execute_result"
    }
   ],
   "source": [
    "cat"
   ]
  },
  {
   "cell_type": "code",
   "execution_count": 82,
   "id": "41e3ca83",
   "metadata": {},
   "outputs": [
    {
     "data": {
      "text/plain": [
       "['Trip_Distance',\n",
       " 'Customer_Since_Months',\n",
       " 'Life_Style_Index',\n",
       " 'Customer_Rating',\n",
       " 'Cancellation_Last_1Month',\n",
       " 'Var1',\n",
       " 'Var2',\n",
       " 'Var3',\n",
       " 'Surge_Pricing_Type']"
      ]
     },
     "execution_count": 82,
     "metadata": {},
     "output_type": "execute_result"
    }
   ],
   "source": [
    "con"
   ]
  },
  {
   "cell_type": "code",
   "execution_count": 85,
   "id": "ffee0de8",
   "metadata": {},
   "outputs": [
    {
     "data": {
      "text/plain": [
       "<AxesSubplot:xlabel='Confidence_Life_Style_Index', ylabel='count'>"
      ]
     },
     "execution_count": 85,
     "metadata": {},
     "output_type": "execute_result"
    },
    {
     "data": {
      "image/png": "[encoded data removed]",
      "text/plain": [
       "<Figure size 720x720 with 4 Axes>"
      ]
     },
     "metadata": {
      "needs_background": "light"
     },
     "output_type": "display_data"
    }
   ],
   "source": [
    "#Data visualizations using chats,plots:\n",
    "plt.figure(figsize=(10,10))\n",
    "plt.subplot(2,2,1)\n",
    "sb.countplot(A.Gender)\n",
    "plt.subplot(2,2,2)\n",
    "sb.countplot(A.Type_of_Cab)\n",
    "plt.subplot(2,2,3)\n",
    "sb.countplot(A.Destination_Type)\n",
    "plt.subplot(2,2,4)\n",
    "sb.countplot(A.Confidence_Life_Style_Index)"
   ]
  },
  {
   "cell_type": "code",
   "execution_count": 86,
   "id": "55c30a41",
   "metadata": {},
   "outputs": [
    {
     "data": {
      "text/plain": [
       "<AxesSubplot:xlabel='Surge_Pricing_Type', ylabel='Density'>"
      ]
     },
     "execution_count": 86,
     "metadata": {},
     "output_type": "execute_result"
    },
    {
     "data": {
      "image/png": "[encoded data removed]",
      "text/plain": [
       "<Figure size 1440x1440 with 6 Axes>"
      ]
     },
     "metadata": {
      "needs_background": "light"
     },
     "output_type": "display_data"
    }
   ],
   "source": [
    "plt.figure(figsize=(20,20))\n",
    "plt.subplot(3,3,1)\n",
    "sb.distplot(A.Trip_Distance)\n",
    "plt.subplot(3,3,2)\n",
    "sb.distplot(A.Customer_Since_Months)\n",
    "plt.subplot(3,3,3)\n",
    "sb.distplot(A.Customer_Rating)\n",
    "plt.subplot(3,3,4)\n",
    "sb.distplot(A.Life_Style_Index)\n",
    "plt.subplot(3,3,5)\n",
    "sb.distplot(A.Cancellation_Last_1Month)\n",
    "plt.subplot(3,3,6)\n",
    "sb.distplot(A.Surge_Pricing_Type)"
   ]
  },
  {
   "cell_type": "code",
   "execution_count": 87,
   "id": "fe222f52",
   "metadata": {},
   "outputs": [
    {
     "data": {
      "text/plain": [
       "<AxesSubplot:xlabel='Cancellation_Last_1Month', ylabel='count'>"
      ]
     },
     "execution_count": 87,
     "metadata": {},
     "output_type": "execute_result"
    },
    {
     "data": {
      "image/png": "[encoded data removed]",
      "text/plain": [
       "<Figure size 432x288 with 1 Axes>"
      ]
     },
     "metadata": {
      "needs_background": "light"
     },
     "output_type": "display_data"
    }
   ],
   "source": [
    "sb.countplot(A.Cancellation_Last_1Month,hue=A.Type_of_Cab)"
   ]
  },
  {
   "cell_type": "code",
   "execution_count": 88,
   "id": "e0a44788",
   "metadata": {},
   "outputs": [
    {
     "data": {
      "text/plain": [
       "<AxesSubplot:xlabel='Customer_Rating', ylabel='Type_of_Cab'>"
      ]
     },
     "execution_count": 88,
     "metadata": {},
     "output_type": "execute_result"
    },
    {
     "data": {
      "image/png": "[encoded data removed]",
      "text/plain": [
       "<Figure size 432x288 with 1 Axes>"
      ]
     },
     "metadata": {
      "needs_background": "light"
     },
     "output_type": "display_data"
    }
   ],
   "source": [
    "sb.boxplot(A.Customer_Rating,A.Type_of_Cab)"
   ]
  },
  {
   "cell_type": "code",
   "execution_count": 89,
   "id": "9f8864bc",
   "metadata": {},
   "outputs": [
    {
     "data": {
      "text/plain": [
       "<AxesSubplot:xlabel='Customer_Since_Months', ylabel='count'>"
      ]
     },
     "execution_count": 89,
     "metadata": {},
     "output_type": "execute_result"
    },
    {
     "data": {
      "image/png": "[encoded data removed]",
      "text/plain": [
       "<Figure size 432x288 with 1 Axes>"
      ]
     },
     "metadata": {
      "needs_background": "light"
     },
     "output_type": "display_data"
    }
   ],
   "source": [
    "sb.countplot(A.Customer_Since_Months,hue = A.Type_of_Cab)"
   ]
  },
  {
   "cell_type": "code",
   "execution_count": 90,
   "id": "bc97a395",
   "metadata": {},
   "outputs": [
    {
     "data": {
      "text/plain": [
       "<AxesSubplot:xlabel='Customer_Since_Months', ylabel='count'>"
      ]
     },
     "execution_count": 90,
     "metadata": {},
     "output_type": "execute_result"
    },
    {
     "data": {
      "image/png": "[encoded data removed]",
      "text/plain": [
       "<Figure size 432x288 with 1 Axes>"
      ]
     },
     "metadata": {
      "needs_background": "light"
     },
     "output_type": "display_data"
    }
   ],
   "source": [
    "sb.countplot(A.Customer_Since_Months,hue=A.Type_of_Cab)"
   ]
  },
  {
   "cell_type": "code",
   "execution_count": 91,
   "id": "0e03006d",
   "metadata": {},
   "outputs": [
    {
     "data": {
      "text/plain": [
       "<AxesSubplot:xlabel='Destination_Type', ylabel='count'>"
      ]
     },
     "execution_count": 91,
     "metadata": {},
     "output_type": "execute_result"
    },
    {
     "data": {
      "image/png": "[encoded data removed]",
      "text/plain": [
       "<Figure size 432x288 with 1 Axes>"
      ]
     },
     "metadata": {
      "needs_background": "light"
     },
     "output_type": "display_data"
    }
   ],
   "source": [
    "sb.countplot(A.Destination_Type,hue=A.Type_of_Cab)"
   ]
  },
  {
   "cell_type": "code",
   "execution_count": 92,
   "id": "622a7242",
   "metadata": {},
   "outputs": [
    {
     "data": {
      "text/plain": [
       "<AxesSubplot:xlabel='Trip_Distance', ylabel='Type_of_Cab'>"
      ]
     },
     "execution_count": 92,
     "metadata": {},
     "output_type": "execute_result"
    },
    {
     "data": {
      "image/png": "[encoded data removed]",
      "text/plain": [
       "<Figure size 432x288 with 1 Axes>"
      ]
     },
     "metadata": {
      "needs_background": "light"
     },
     "output_type": "display_data"
    }
   ],
   "source": [
    "sb.boxplot(A.Trip_Distance, A.Type_of_Cab)"
   ]
  },
  {
   "cell_type": "code",
   "execution_count": 93,
   "id": "136db70b",
   "metadata": {},
   "outputs": [
    {
     "data": {
      "text/plain": [
       "<AxesSubplot:xlabel='Confidence_Life_Style_Index', ylabel='count'>"
      ]
     },
     "execution_count": 93,
     "metadata": {},
     "output_type": "execute_result"
    },
    {
     "data": {
      "image/png": "[encoded data removed]",
      "text/plain": [
       "<Figure size 432x288 with 1 Axes>"
      ]
     },
     "metadata": {
      "needs_background": "light"
     },
     "output_type": "display_data"
    }
   ],
   "source": [
    "sb.countplot(A.Confidence_Life_Style_Index,hue = A.Type_of_Cab)"
   ]
  },
  {
   "cell_type": "code",
   "execution_count": 94,
   "id": "012abf0a",
   "metadata": {},
   "outputs": [
    {
     "data": {
      "text/plain": [
       "<AxesSubplot:xlabel='Surge_Pricing_Type', ylabel='count'>"
      ]
     },
     "execution_count": 94,
     "metadata": {},
     "output_type": "execute_result"
    },
    {
     "data": {
      "image/png": "[encoded data removed]",
      "text/plain": [
       "<Figure size 432x288 with 1 Axes>"
      ]
     },
     "metadata": {
      "needs_background": "light"
     },
     "output_type": "display_data"
    }
   ],
   "source": [
    "sb.countplot(A.Surge_Pricing_Type,hue = A.Type_of_Cab)"
   ]
  },
  {
   "cell_type": "code",
   "execution_count": 95,
   "id": "ebf37459",
   "metadata": {},
   "outputs": [
    {
     "data": {
      "text/plain": [
       "<AxesSubplot:xlabel='Surge_Pricing_Type', ylabel='count'>"
      ]
     },
     "execution_count": 95,
     "metadata": {},
     "output_type": "execute_result"
    },
    {
     "data": {
      "image/png": "[encoded data removed]",
      "text/plain": [
       "<Figure size 432x288 with 1 Axes>"
      ]
     },
     "metadata": {
      "needs_background": "light"
     },
     "output_type": "display_data"
    }
   ],
   "source": [
    "sb.countplot(A.Surge_Pricing_Type,hue = A.Type_of_Cab)"
   ]
  },
  {
   "cell_type": "code",
   "execution_count": 96,
   "id": "ac171fb3",
   "metadata": {},
   "outputs": [
    {
     "data": {
      "text/plain": [
       "<AxesSubplot:xlabel='Cancellation_Last_1Month', ylabel='count'>"
      ]
     },
     "execution_count": 96,
     "metadata": {},
     "output_type": "execute_result"
    },
    {
     "data": {
      "image/png": "[encoded data removed]",
      "text/plain": [
       "<Figure size 432x288 with 1 Axes>"
      ]
     },
     "metadata": {
      "needs_background": "light"
     },
     "output_type": "display_data"
    }
   ],
   "source": [
    "sb.countplot(A.Cancellation_Last_1Month,hue = A.Gender)"
   ]
  },
  {
   "cell_type": "code",
   "execution_count": 97,
   "id": "a6d34f0d",
   "metadata": {},
   "outputs": [
    {
     "data": {
      "text/plain": [
       "<AxesSubplot:xlabel='Gender', ylabel='count'>"
      ]
     },
     "execution_count": 97,
     "metadata": {},
     "output_type": "execute_result"
    },
    {
     "data": {
      "image/png": "[encoded data removed]",
      "text/plain": [
       "<Figure size 432x288 with 1 Axes>"
      ]
     },
     "metadata": {
      "needs_background": "light"
     },
     "output_type": "display_data"
    }
   ],
   "source": [
    "sb.countplot(A.Gender,hue = A.Type_of_Cab)"
   ]
  },
  {
   "cell_type": "code",
   "execution_count": 98,
   "id": "9f185b9a",
   "metadata": {},
   "outputs": [
    {
     "data": {
      "text/plain": [
       "<AxesSubplot:xlabel='Customer_Rating', ylabel='Gender'>"
      ]
     },
     "execution_count": 98,
     "metadata": {},
     "output_type": "execute_result"
    },
    {
     "data": {
      "image/png": "[encoded data removed]",
      "text/plain": [
       "<Figure size 432x288 with 1 Axes>"
      ]
     },
     "metadata": {
      "needs_background": "light"
     },
     "output_type": "display_data"
    }
   ],
   "source": [
    "sb.boxplot(A.Customer_Rating,A.Gender)"
   ]
  },
  {
   "cell_type": "code",
   "execution_count": 99,
   "id": "f9231120",
   "metadata": {},
   "outputs": [
    {
     "data": {
      "text/plain": [
       "<AxesSubplot:xlabel='Customer_Since_Months', ylabel='Cancellation_Last_1Month'>"
      ]
     },
     "execution_count": 99,
     "metadata": {},
     "output_type": "execute_result"
    },
    {
     "data": {
      "image/png": "[encoded data removed]",
      "text/plain": [
       "<Figure size 432x288 with 1 Axes>"
      ]
     },
     "metadata": {
      "needs_background": "light"
     },
     "output_type": "display_data"
    }
   ],
   "source": [
    "sb.scatterplot(A.Customer_Since_Months,A.Cancellation_Last_1Month,hue=A.Gender)"
   ]
  },
  {
   "cell_type": "code",
   "execution_count": 100,
   "id": "a81156ca",
   "metadata": {},
   "outputs": [
    {
     "data": {
      "text/plain": [
       "<AxesSubplot:xlabel='Surge_Pricing_Type', ylabel='count'>"
      ]
     },
     "execution_count": 100,
     "metadata": {},
     "output_type": "execute_result"
    },
    {
     "data": {
      "image/png": "[encoded data removed]",
      "text/plain": [
       "<Figure size 432x288 with 1 Axes>"
      ]
     },
     "metadata": {
      "needs_background": "light"
     },
     "output_type": "display_data"
    }
   ],
   "source": [
    "sb.countplot(A.Surge_Pricing_Type,hue = A.Gender)"
   ]
  },
  {
   "cell_type": "code",
   "execution_count": 101,
   "id": "772ec64a",
   "metadata": {},
   "outputs": [
    {
     "data": {
      "text/plain": [
       "<AxesSubplot:>"
      ]
     },
     "execution_count": 101,
     "metadata": {},
     "output_type": "execute_result"
    },
    {
     "data": {
      "image/png": "[encoded data removed]",
      "text/plain": [
       "<Figure size 432x288 with 2 Axes>"
      ]
     },
     "metadata": {
      "needs_background": "light"
     },
     "output_type": "display_data"
    }
   ],
   "source": [
    "#Checking correlation between columns using heatmap:\n",
    "sb.heatmap(A.corr(),annot=True,linewidths=0.2,center=0)"
   ]
  },
  {
   "cell_type": "code",
   "execution_count": 102,
   "id": "f09d6660",
   "metadata": {},
   "outputs": [
    {
     "data": {
      "text/html": [
       "<div>\n",
       "<style scoped>\n",
       "    .dataframe tbody tr th:only-of-type {\n",
       "        vertical-align: middle;\n",
       "    }\n",
       "\n",
       "    .dataframe tbody tr th {\n",
       "        vertical-align: top;\n",
       "    }\n",
       "\n",
       "    .dataframe thead th {\n",
       "        text-align: right;\n",
       "    }\n",
       "</style>\n",
       "<table border=\"1\" class=\"dataframe\">\n",
       "  <thead>\n",
       "    <tr style=\"text-align: right;\">\n",
       "      <th></th>\n",
       "      <th>Trip_Distance</th>\n",
       "      <th>Customer_Since_Months</th>\n",
       "      <th>Life_Style_Index</th>\n",
       "      <th>Customer_Rating</th>\n",
       "      <th>Cancellation_Last_1Month</th>\n",
       "      <th>Var1</th>\n",
       "      <th>Var2</th>\n",
       "      <th>Var3</th>\n",
       "      <th>Surge_Pricing_Type</th>\n",
       "    </tr>\n",
       "  </thead>\n",
       "  <tbody>\n",
       "    <tr>\n",
       "      <th>0</th>\n",
       "      <td>-1.466568</td>\n",
       "      <td>-1.415166</td>\n",
       "      <td>-1.164984</td>\n",
       "      <td>1.076346</td>\n",
       "      <td>-0.754502</td>\n",
       "      <td>-1.509063</td>\n",
       "      <td>-1.043456</td>\n",
       "      <td>-1.304086</td>\n",
       "      <td>-0.210994</td>\n",
       "    </tr>\n",
       "    <tr>\n",
       "      <th>1</th>\n",
       "      <td>-0.577167</td>\n",
       "      <td>1.124052</td>\n",
       "      <td>-0.424456</td>\n",
       "      <td>0.612378</td>\n",
       "      <td>-0.754502</td>\n",
       "      <td>-1.643352</td>\n",
       "      <td>0.962110</td>\n",
       "      <td>0.250555</td>\n",
       "      <td>-0.210994</td>\n",
       "    </tr>\n",
       "    <tr>\n",
       "      <th>2</th>\n",
       "      <td>-0.102689</td>\n",
       "      <td>1.124052</td>\n",
       "      <td>2.117065</td>\n",
       "      <td>0.664638</td>\n",
       "      <td>1.173106</td>\n",
       "      <td>-0.099030</td>\n",
       "      <td>0.962110</td>\n",
       "      <td>0.164186</td>\n",
       "      <td>-0.210994</td>\n",
       "    </tr>\n",
       "    <tr>\n",
       "      <th>3</th>\n",
       "      <td>0.680141</td>\n",
       "      <td>1.124052</td>\n",
       "      <td>2.117065</td>\n",
       "      <td>0.616202</td>\n",
       "      <td>-0.754502</td>\n",
       "      <td>-0.099030</td>\n",
       "      <td>0.159884</td>\n",
       "      <td>-0.094921</td>\n",
       "      <td>1.143724</td>\n",
       "    </tr>\n",
       "    <tr>\n",
       "      <th>4</th>\n",
       "      <td>0.421157</td>\n",
       "      <td>1.124052</td>\n",
       "      <td>0.101737</td>\n",
       "      <td>0.563942</td>\n",
       "      <td>3.100714</td>\n",
       "      <td>-0.770475</td>\n",
       "      <td>-0.441786</td>\n",
       "      <td>2.323410</td>\n",
       "      <td>-0.210994</td>\n",
       "    </tr>\n",
       "  </tbody>\n",
       "</table>\n",
       "</div>"
      ],
      "text/plain": [
       "   Trip_Distance  Customer_Since_Months  Life_Style_Index  Customer_Rating  \\\n",
       "0      -1.466568              -1.415166         -1.164984         1.076346   \n",
       "1      -0.577167               1.124052         -0.424456         0.612378   \n",
       "2      -0.102689               1.124052          2.117065         0.664638   \n",
       "3       0.680141               1.124052          2.117065         0.616202   \n",
       "4       0.421157               1.124052          0.101737         0.563942   \n",
       "\n",
       "   Cancellation_Last_1Month      Var1      Var2      Var3  Surge_Pricing_Type  \n",
       "0                 -0.754502 -1.509063 -1.043456 -1.304086           -0.210994  \n",
       "1                 -0.754502 -1.643352  0.962110  0.250555           -0.210994  \n",
       "2                  1.173106 -0.099030  0.962110  0.164186           -0.210994  \n",
       "3                 -0.754502 -0.099030  0.159884 -0.094921            1.143724  \n",
       "4                  3.100714 -0.770475 -0.441786  2.323410           -0.210994  "
      ]
     },
     "execution_count": 102,
     "metadata": {},
     "output_type": "execute_result"
    }
   ],
   "source": [
    "#Data Preprocessing: StandardScaler for continous and LabelEncoding for Categorical\n",
    "from sklearn.preprocessing import StandardScaler\n",
    "ss= StandardScaler()\n",
    "X1 = pd.DataFrame(ss.fit_transform(A[con]),columns=con)\n",
    "X1.head()"
   ]
  },
  {
   "cell_type": "code",
   "execution_count": 105,
   "id": "bc9e3a3d",
   "metadata": {},
   "outputs": [
    {
     "data": {
      "text/html": [
       "<div>\n",
       "<style scoped>\n",
       "    .dataframe tbody tr th:only-of-type {\n",
       "        vertical-align: middle;\n",
       "    }\n",
       "\n",
       "    .dataframe tbody tr th {\n",
       "        vertical-align: top;\n",
       "    }\n",
       "\n",
       "    .dataframe thead th {\n",
       "        text-align: right;\n",
       "    }\n",
       "</style>\n",
       "<table border=\"1\" class=\"dataframe\">\n",
       "  <thead>\n",
       "    <tr style=\"text-align: right;\">\n",
       "      <th></th>\n",
       "      <th>Type_of_Cab</th>\n",
       "      <th>Destination_Type</th>\n",
       "      <th>Gender</th>\n",
       "      <th>Confidence_Life_Style_Index</th>\n",
       "      <th>Trip_Distance</th>\n",
       "      <th>Customer_Since_Months</th>\n",
       "      <th>Life_Style_Index</th>\n",
       "      <th>Customer_Rating</th>\n",
       "      <th>Cancellation_Last_1Month</th>\n",
       "      <th>Var1</th>\n",
       "      <th>Var2</th>\n",
       "      <th>Var3</th>\n",
       "      <th>Surge_Pricing_Type</th>\n",
       "    </tr>\n",
       "  </thead>\n",
       "  <tbody>\n",
       "    <tr>\n",
       "      <th>0</th>\n",
       "      <td>1</td>\n",
       "      <td>0</td>\n",
       "      <td>0</td>\n",
       "      <td>0</td>\n",
       "      <td>-1.466568</td>\n",
       "      <td>-1.415166</td>\n",
       "      <td>-1.164984</td>\n",
       "      <td>1.076346</td>\n",
       "      <td>-0.754502</td>\n",
       "      <td>-1.509063</td>\n",
       "      <td>-1.043456</td>\n",
       "      <td>-1.304086</td>\n",
       "      <td>-0.210994</td>\n",
       "    </tr>\n",
       "    <tr>\n",
       "      <th>1</th>\n",
       "      <td>1</td>\n",
       "      <td>0</td>\n",
       "      <td>1</td>\n",
       "      <td>1</td>\n",
       "      <td>-0.577167</td>\n",
       "      <td>1.124052</td>\n",
       "      <td>-0.424456</td>\n",
       "      <td>0.612378</td>\n",
       "      <td>-0.754502</td>\n",
       "      <td>-1.643352</td>\n",
       "      <td>0.962110</td>\n",
       "      <td>0.250555</td>\n",
       "      <td>-0.210994</td>\n",
       "    </tr>\n",
       "    <tr>\n",
       "      <th>2</th>\n",
       "      <td>1</td>\n",
       "      <td>4</td>\n",
       "      <td>1</td>\n",
       "      <td>1</td>\n",
       "      <td>-0.102689</td>\n",
       "      <td>1.124052</td>\n",
       "      <td>2.117065</td>\n",
       "      <td>0.664638</td>\n",
       "      <td>1.173106</td>\n",
       "      <td>-0.099030</td>\n",
       "      <td>0.962110</td>\n",
       "      <td>0.164186</td>\n",
       "      <td>-0.210994</td>\n",
       "    </tr>\n",
       "    <tr>\n",
       "      <th>3</th>\n",
       "      <td>2</td>\n",
       "      <td>0</td>\n",
       "      <td>1</td>\n",
       "      <td>1</td>\n",
       "      <td>0.680141</td>\n",
       "      <td>1.124052</td>\n",
       "      <td>2.117065</td>\n",
       "      <td>0.616202</td>\n",
       "      <td>-0.754502</td>\n",
       "      <td>-0.099030</td>\n",
       "      <td>0.159884</td>\n",
       "      <td>-0.094921</td>\n",
       "      <td>1.143724</td>\n",
       "    </tr>\n",
       "    <tr>\n",
       "      <th>4</th>\n",
       "      <td>2</td>\n",
       "      <td>0</td>\n",
       "      <td>1</td>\n",
       "      <td>1</td>\n",
       "      <td>0.421157</td>\n",
       "      <td>1.124052</td>\n",
       "      <td>0.101737</td>\n",
       "      <td>0.563942</td>\n",
       "      <td>3.100714</td>\n",
       "      <td>-0.770475</td>\n",
       "      <td>-0.441786</td>\n",
       "      <td>2.323410</td>\n",
       "      <td>-0.210994</td>\n",
       "    </tr>\n",
       "  </tbody>\n",
       "</table>\n",
       "</div>"
      ],
      "text/plain": [
       "   Type_of_Cab  Destination_Type  Gender  Confidence_Life_Style_Index  \\\n",
       "0            1                 0       0                            0   \n",
       "1            1                 0       1                            1   \n",
       "2            1                 4       1                            1   \n",
       "3            2                 0       1                            1   \n",
       "4            2                 0       1                            1   \n",
       "\n",
       "   Trip_Distance  Customer_Since_Months  Life_Style_Index  Customer_Rating  \\\n",
       "0      -1.466568              -1.415166         -1.164984         1.076346   \n",
       "1      -0.577167               1.124052         -0.424456         0.612378   \n",
       "2      -0.102689               1.124052          2.117065         0.664638   \n",
       "3       0.680141               1.124052          2.117065         0.616202   \n",
       "4       0.421157               1.124052          0.101737         0.563942   \n",
       "\n",
       "   Cancellation_Last_1Month      Var1      Var2      Var3  Surge_Pricing_Type  \n",
       "0                 -0.754502 -1.509063 -1.043456 -1.304086           -0.210994  \n",
       "1                 -0.754502 -1.643352  0.962110  0.250555           -0.210994  \n",
       "2                  1.173106 -0.099030  0.962110  0.164186           -0.210994  \n",
       "3                 -0.754502 -0.099030  0.159884 -0.094921            1.143724  \n",
       "4                  3.100714 -0.770475 -0.441786  2.323410           -0.210994  "
      ]
     },
     "execution_count": 105,
     "metadata": {},
     "output_type": "execute_result"
    }
   ],
   "source": [
    "from sklearn.preprocessing import LabelEncoder\n",
    "le = LabelEncoder()\n",
    "A[\"Type_of_Cab\"]=le.fit_transform(A[\"Type_of_Cab\"])\n",
    "A[\"Confidence_Life_Style_Index\"] =le.fit_transform(A[\"Confidence_Life_Style_Index\"])\n",
    "A[\"Destination_Type\"]=le.fit_transform(A[\"Destination_Type\"])\n",
    "A[\"Gender\"]=le.fit_transform(A[\"Gender\"])\n",
    "A = A[[\"Type_of_Cab\",\"Destination_Type\",\"Gender\",\"Confidence_Life_Style_Index\"]]\n",
    "A=A.join(X1)\n",
    "A.head()"
   ]
  },
  {
   "cell_type": "code",
   "execution_count": 107,
   "id": "f6418a6e",
   "metadata": {},
   "outputs": [
    {
     "data": {
      "text/html": [
       "<div>\n",
       "<style scoped>\n",
       "    .dataframe tbody tr th:only-of-type {\n",
       "        vertical-align: middle;\n",
       "    }\n",
       "\n",
       "    .dataframe tbody tr th {\n",
       "        vertical-align: top;\n",
       "    }\n",
       "\n",
       "    .dataframe thead th {\n",
       "        text-align: right;\n",
       "    }\n",
       "</style>\n",
       "<table border=\"1\" class=\"dataframe\">\n",
       "  <thead>\n",
       "    <tr style=\"text-align: right;\">\n",
       "      <th></th>\n",
       "      <th>Type_of_Cab</th>\n",
       "      <th>Destination_Type</th>\n",
       "      <th>Gender</th>\n",
       "      <th>Confidence_Life_Style_Index</th>\n",
       "      <th>Trip_Distance</th>\n",
       "      <th>Customer_Since_Months</th>\n",
       "      <th>Life_Style_Index</th>\n",
       "      <th>Customer_Rating</th>\n",
       "      <th>Cancellation_Last_1Month</th>\n",
       "      <th>Var1</th>\n",
       "      <th>Var2</th>\n",
       "      <th>Var3</th>\n",
       "      <th>Surge_Pricing_Type</th>\n",
       "    </tr>\n",
       "  </thead>\n",
       "  <tbody>\n",
       "    <tr>\n",
       "      <th>0</th>\n",
       "      <td>1</td>\n",
       "      <td>0</td>\n",
       "      <td>0</td>\n",
       "      <td>0</td>\n",
       "      <td>-1.466568</td>\n",
       "      <td>-1.415166</td>\n",
       "      <td>-1.164984</td>\n",
       "      <td>1.076346</td>\n",
       "      <td>-0.754502</td>\n",
       "      <td>-1.509063</td>\n",
       "      <td>-1.043456</td>\n",
       "      <td>-1.304086</td>\n",
       "      <td>-0.210994</td>\n",
       "    </tr>\n",
       "    <tr>\n",
       "      <th>1</th>\n",
       "      <td>1</td>\n",
       "      <td>0</td>\n",
       "      <td>1</td>\n",
       "      <td>1</td>\n",
       "      <td>-0.577167</td>\n",
       "      <td>1.124052</td>\n",
       "      <td>-0.424456</td>\n",
       "      <td>0.612378</td>\n",
       "      <td>-0.754502</td>\n",
       "      <td>-1.643352</td>\n",
       "      <td>0.962110</td>\n",
       "      <td>0.250555</td>\n",
       "      <td>-0.210994</td>\n",
       "    </tr>\n",
       "    <tr>\n",
       "      <th>2</th>\n",
       "      <td>1</td>\n",
       "      <td>4</td>\n",
       "      <td>1</td>\n",
       "      <td>1</td>\n",
       "      <td>-0.102689</td>\n",
       "      <td>1.124052</td>\n",
       "      <td>2.117065</td>\n",
       "      <td>0.664638</td>\n",
       "      <td>1.173106</td>\n",
       "      <td>-0.099030</td>\n",
       "      <td>0.962110</td>\n",
       "      <td>0.164186</td>\n",
       "      <td>-0.210994</td>\n",
       "    </tr>\n",
       "    <tr>\n",
       "      <th>3</th>\n",
       "      <td>2</td>\n",
       "      <td>0</td>\n",
       "      <td>1</td>\n",
       "      <td>1</td>\n",
       "      <td>0.680141</td>\n",
       "      <td>1.124052</td>\n",
       "      <td>2.117065</td>\n",
       "      <td>0.616202</td>\n",
       "      <td>-0.754502</td>\n",
       "      <td>-0.099030</td>\n",
       "      <td>0.159884</td>\n",
       "      <td>-0.094921</td>\n",
       "      <td>1.143724</td>\n",
       "    </tr>\n",
       "    <tr>\n",
       "      <th>4</th>\n",
       "      <td>2</td>\n",
       "      <td>0</td>\n",
       "      <td>1</td>\n",
       "      <td>1</td>\n",
       "      <td>0.421157</td>\n",
       "      <td>1.124052</td>\n",
       "      <td>0.101737</td>\n",
       "      <td>0.563942</td>\n",
       "      <td>3.100714</td>\n",
       "      <td>-0.770475</td>\n",
       "      <td>-0.441786</td>\n",
       "      <td>2.323410</td>\n",
       "      <td>-0.210994</td>\n",
       "    </tr>\n",
       "    <tr>\n",
       "      <th>5</th>\n",
       "      <td>4</td>\n",
       "      <td>0</td>\n",
       "      <td>1</td>\n",
       "      <td>1</td>\n",
       "      <td>-0.985038</td>\n",
       "      <td>1.124052</td>\n",
       "      <td>2.117065</td>\n",
       "      <td>-0.256924</td>\n",
       "      <td>0.209302</td>\n",
       "      <td>0.639559</td>\n",
       "      <td>2.366007</td>\n",
       "      <td>1.373351</td>\n",
       "      <td>1.143724</td>\n",
       "    </tr>\n",
       "    <tr>\n",
       "      <th>6</th>\n",
       "      <td>4</td>\n",
       "      <td>1</td>\n",
       "      <td>1</td>\n",
       "      <td>2</td>\n",
       "      <td>-0.567372</td>\n",
       "      <td>1.124052</td>\n",
       "      <td>-0.305203</td>\n",
       "      <td>0.128016</td>\n",
       "      <td>0.209302</td>\n",
       "      <td>1.378147</td>\n",
       "      <td>-0.241229</td>\n",
       "      <td>-0.008552</td>\n",
       "      <td>-0.210994</td>\n",
       "    </tr>\n",
       "    <tr>\n",
       "      <th>7</th>\n",
       "      <td>1</td>\n",
       "      <td>0</td>\n",
       "      <td>1</td>\n",
       "      <td>1</td>\n",
       "      <td>-1.009330</td>\n",
       "      <td>-1.133031</td>\n",
       "      <td>-0.348767</td>\n",
       "      <td>0.747490</td>\n",
       "      <td>-0.754502</td>\n",
       "      <td>2.721036</td>\n",
       "      <td>-1.043456</td>\n",
       "      <td>-1.044980</td>\n",
       "      <td>-0.210994</td>\n",
       "    </tr>\n",
       "    <tr>\n",
       "      <th>8</th>\n",
       "      <td>2</td>\n",
       "      <td>0</td>\n",
       "      <td>1</td>\n",
       "      <td>1</td>\n",
       "      <td>2.452675</td>\n",
       "      <td>-0.850895</td>\n",
       "      <td>2.117065</td>\n",
       "      <td>0.302642</td>\n",
       "      <td>-0.754502</td>\n",
       "      <td>-0.099030</td>\n",
       "      <td>1.363224</td>\n",
       "      <td>1.459720</td>\n",
       "      <td>-0.210994</td>\n",
       "    </tr>\n",
       "    <tr>\n",
       "      <th>9</th>\n",
       "      <td>3</td>\n",
       "      <td>0</td>\n",
       "      <td>1</td>\n",
       "      <td>1</td>\n",
       "      <td>2.467955</td>\n",
       "      <td>-0.286625</td>\n",
       "      <td>0.122903</td>\n",
       "      <td>-0.413704</td>\n",
       "      <td>0.209302</td>\n",
       "      <td>-0.099030</td>\n",
       "      <td>1.363224</td>\n",
       "      <td>0.682400</td>\n",
       "      <td>1.143724</td>\n",
       "    </tr>\n",
       "  </tbody>\n",
       "</table>\n",
       "</div>"
      ],
      "text/plain": [
       "   Type_of_Cab  Destination_Type  Gender  Confidence_Life_Style_Index  \\\n",
       "0            1                 0       0                            0   \n",
       "1            1                 0       1                            1   \n",
       "2            1                 4       1                            1   \n",
       "3            2                 0       1                            1   \n",
       "4            2                 0       1                            1   \n",
       "5            4                 0       1                            1   \n",
       "6            4                 1       1                            2   \n",
       "7            1                 0       1                            1   \n",
       "8            2                 0       1                            1   \n",
       "9            3                 0       1                            1   \n",
       "\n",
       "   Trip_Distance  Customer_Since_Months  Life_Style_Index  Customer_Rating  \\\n",
       "0      -1.466568              -1.415166         -1.164984         1.076346   \n",
       "1      -0.577167               1.124052         -0.424456         0.612378   \n",
       "2      -0.102689               1.124052          2.117065         0.664638   \n",
       "3       0.680141               1.124052          2.117065         0.616202   \n",
       "4       0.421157               1.124052          0.101737         0.563942   \n",
       "5      -0.985038               1.124052          2.117065        -0.256924   \n",
       "6      -0.567372               1.124052         -0.305203         0.128016   \n",
       "7      -1.009330              -1.133031         -0.348767         0.747490   \n",
       "8       2.452675              -0.850895          2.117065         0.302642   \n",
       "9       2.467955              -0.286625          0.122903        -0.413704   \n",
       "\n",
       "   Cancellation_Last_1Month      Var1      Var2      Var3  Surge_Pricing_Type  \n",
       "0                 -0.754502 -1.509063 -1.043456 -1.304086           -0.210994  \n",
       "1                 -0.754502 -1.643352  0.962110  0.250555           -0.210994  \n",
       "2                  1.173106 -0.099030  0.962110  0.164186           -0.210994  \n",
       "3                 -0.754502 -0.099030  0.159884 -0.094921            1.143724  \n",
       "4                  3.100714 -0.770475 -0.441786  2.323410           -0.210994  \n",
       "5                  0.209302  0.639559  2.366007  1.373351            1.143724  \n",
       "6                  0.209302  1.378147 -0.241229 -0.008552           -0.210994  \n",
       "7                 -0.754502  2.721036 -1.043456 -1.044980           -0.210994  \n",
       "8                 -0.754502 -0.099030  1.363224  1.459720           -0.210994  \n",
       "9                  0.209302 -0.099030  1.363224  0.682400            1.143724  "
      ]
     },
     "execution_count": 107,
     "metadata": {},
     "output_type": "execute_result"
    }
   ],
   "source": [
    "A.head(10)"
   ]
  },
  {
   "cell_type": "code",
   "execution_count": null,
   "id": "077f1565",
   "metadata": {},
   "outputs": [],
   "source": []
  }
 ],
 "metadata": {
  "kernelspec": {
   "display_name": "Python 3 (ipykernel)",
   "language": "python",
   "name": "python3"
  },
  "language_info": {
   "codemirror_mode": {
    "name": "ipython",
    "version": 3
   },
   "file_extension": ".py",
   "mimetype": "text/x-python",
   "name": "python",
   "nbconvert_exporter": "python",
   "pygments_lexer": "ipython3",
   "version": "3.9.12"
  }
 },
 "nbformat": 4,
 "nbformat_minor": 5
}
